{
 "cells": [
  {
   "cell_type": "code",
   "execution_count": null,
   "id": "e6c7eb9c",
   "metadata": {},
   "outputs": [],
   "source": [
    "В ящике 5 апельсинов и 4 яблока. Наудачу выбираются 3 фрукта. Какова вероятность, что все три фрукта – апельсины?\n",
    "\n",
    "В интернете полученный аналитически ответ 0.119. Подтверждается ли он эксперементально?\n",
    "\n",
    "\n",
    "\n",
    "P (A) = m/n, где n — общее число всех равновозможных, элементарных исходов этого испытания,\n",
    "а m — количество элементарных исходов, благоприятствующих событию A."
   ]
  },
  {
   "cell_type": "code",
   "execution_count": 61,
   "id": "a4cab99a",
   "metadata": {},
   "outputs": [
    {
     "data": {
      "text/plain": [
       "0.11904761904761904"
      ]
     },
     "metadata": {},
     "output_type": "display_data"
    }
   ],
   "source": [
    "\n",
    "\n",
    "\n",
    "# вероятность выбора апельсина теоретическая\n",
    "P=1\n",
    "orange_count = 5\n",
    "i=0\n",
    "while i<3:\n",
    "    p_orange =orange_count/ (4+orange_count)\n",
    "    orange_count-=1\n",
    "    P*=p_orange\n",
    "    i+=1\n",
    "display(P)\n"
   ]
  },
  {
   "cell_type": "code",
   "execution_count": null,
   "id": "240283c5",
   "metadata": {},
   "outputs": [],
   "source": []
  },
  {
   "cell_type": "code",
   "execution_count": 62,
   "id": "9a7ee017",
   "metadata": {},
   "outputs": [
    {
     "data": {
      "text/plain": [
       "0.118856"
      ]
     },
     "metadata": {},
     "output_type": "display_data"
    }
   ],
   "source": [
    "import numpy as np\n",
    "import random\n",
    "# вероятность выбора апельсина практическая при большом количестве измерений\n",
    "orange_count = 5\n",
    "apple_count = 4\n",
    "\n",
    "\n",
    "#box = [\"apple\"]*apple_count+[\"orange\"]*orange_count \n",
    "\n",
    "#делаем 100 наблюдений\n",
    "N=0\n",
    "\n",
    "k=0 \n",
    "K = 1000000 #количество наблюдений\n",
    "while k<K:\n",
    "    i=0\n",
    "    orange_count = 5\n",
    "    box = [\"apple\"]*apple_count+[\"orange\"]*orange_count \n",
    "    while i<3:\n",
    "        p = random.choice(box)\n",
    "        if p == \"apple\":\n",
    "            break#выходим из проверки случая, так как попытка уже неуспешна\n",
    "        else:# if p == \"orange\":\n",
    "            \n",
    "            if i==2:\n",
    "                N+=1 # получили уникальный случай , когда выпало три апельсина\n",
    "                break\n",
    "            orange_count -=1 \n",
    "            box = [\"apple\"]*apple_count+[\"orange\"]*orange_count\n",
    "        i+=1      \n",
    "    \n",
    "    k+=1\n",
    "    \n",
    "P =N/K \n",
    "\n",
    "display(P) # вероятность выбора трех апельсинов практическая "
   ]
  },
  {
   "cell_type": "code",
   "execution_count": null,
   "id": "4531aee0",
   "metadata": {},
   "outputs": [],
   "source": []
  },
  {
   "cell_type": "code",
   "execution_count": null,
   "id": "832efce8",
   "metadata": {},
   "outputs": [],
   "source": []
  }
 ],
 "metadata": {
  "kernelspec": {
   "display_name": "Python 3 (ipykernel)",
   "language": "python",
   "name": "python3"
  },
  "language_info": {
   "codemirror_mode": {
    "name": "ipython",
    "version": 3
   },
   "file_extension": ".py",
   "mimetype": "text/x-python",
   "name": "python",
   "nbconvert_exporter": "python",
   "pygments_lexer": "ipython3",
   "version": "3.10.9"
  }
 },
 "nbformat": 4,
 "nbformat_minor": 5
}
