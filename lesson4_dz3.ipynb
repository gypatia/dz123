{
 "cells": [
  {
   "cell_type": "code",
   "execution_count": null,
   "id": "5fce3355",
   "metadata": {},
   "outputs": [],
   "source": [
    "Задача 3\n",
    "Мастер, имея 10 деталей, из которых 3 – нестандартных, проверяет детали одну за другой, пока ему не попадется стандартная. \n",
    "Какова вероятность, что он проверит ровно две детали?\n",
    "\n",
    "В интернете полученный аналитически ответ 7/30 или 0.23333. Подтверждается ли он эксперементально?"
   ]
  },
  {
   "cell_type": "code",
   "execution_count": 5,
   "id": "c9ed6084",
   "metadata": {},
   "outputs": [
    {
     "data": {
      "text/plain": [
       "0.2333333333333333"
      ]
     },
     "execution_count": 5,
     "metadata": {},
     "output_type": "execute_result"
    }
   ],
   "source": [
    "\n",
    "k_stand =3\n",
    "k_nestand = 7\n",
    "\n",
    "P_nestand =k_nestand/(k_stand+k_nestand)\n",
    "k_nestand-=1\n",
    "\n",
    "P_stand =k_stand/(k_stand+k_nestand)\n",
    "\n",
    "P = P_nestand*P_stand\n",
    "\n",
    "P"
   ]
  },
  {
   "cell_type": "code",
   "execution_count": 33,
   "id": "13522f4a",
   "metadata": {},
   "outputs": [
    {
     "data": {
      "text/plain": [
       "0.233607"
      ]
     },
     "metadata": {},
     "output_type": "display_data"
    }
   ],
   "source": [
    "import numpy as np\n",
    "import random\n",
    "# вероятность практическая при большом количестве измерений\n",
    "\n",
    "k_stand = 3\n",
    "N=0\n",
    "k=0 \n",
    "K = 1000000 #количество наблюдений\n",
    "while k<K:\n",
    "    \n",
    "   \n",
    "    k_nestand = 7\n",
    "    box = [\"standart\"]*k_stand+[\"nestandart\"]*k_nestand \n",
    "    \n",
    "    p = random.choice(box)\n",
    "\n",
    "    if p == \"nestandart\":\n",
    "        k_nestand-=1\n",
    "        box = [\"standart\"]*k_stand+[\"nestandart\"]*k_nestand \n",
    "        p = random.choice(box)\n",
    "        if p == \"standart\":\n",
    "            N+=1\n",
    "    k+=1\n",
    "\n",
    "     \n",
    "P =N/K \n",
    "\n",
    "display(P) "
   ]
  },
  {
   "cell_type": "code",
   "execution_count": null,
   "id": "ec43928d",
   "metadata": {},
   "outputs": [],
   "source": []
  }
 ],
 "metadata": {
  "kernelspec": {
   "display_name": "Python 3 (ipykernel)",
   "language": "python",
   "name": "python3"
  },
  "language_info": {
   "codemirror_mode": {
    "name": "ipython",
    "version": 3
   },
   "file_extension": ".py",
   "mimetype": "text/x-python",
   "name": "python",
   "nbconvert_exporter": "python",
   "pygments_lexer": "ipython3",
   "version": "3.10.9"
  }
 },
 "nbformat": 4,
 "nbformat_minor": 5
}
